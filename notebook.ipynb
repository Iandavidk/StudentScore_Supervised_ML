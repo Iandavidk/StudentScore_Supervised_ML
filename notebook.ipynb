{
 "cells": [
  {
   "cell_type": "markdown",
   "id": "bad8e317-7985-415e-86e5-309276a03318",
   "metadata": {},
   "source": [
    "# STUDENT SCORES SUPERVISED MACHINE LEARNING PROBLEM"
   ]
  },
  {
   "cell_type": "markdown",
   "id": "f7825af0-ac4d-4189-b32b-0b52b9bdbb1a",
   "metadata": {},
   "source": [
    "## INTRODUCTION"
   ]
  },
  {
   "cell_type": "markdown",
   "id": "1d9e51ab-3a27-40bd-8e7d-12debebb333e",
   "metadata": {},
   "source": [
    "In this project we will predict the percentage of marks a student is expected to score based on the number of hours studied."
   ]
  },
  {
   "cell_type": "markdown",
   "id": "146cca68-7ecb-4ad1-bfd0-80f4b3a076f3",
   "metadata": {},
   "source": [
    "## DATA UNDERSTANDING"
   ]
  },
  {
   "cell_type": "code",
   "execution_count": 1,
   "id": "75ef0350-d966-4e67-8d55-7a1bb3877986",
   "metadata": {
    "executionCancelledAt": null,
    "executionTime": 2778,
    "lastExecutedAt": 1687317550373,
    "lastScheduledRunId": null,
    "lastSuccessfullyExecutedCode": "# Importing libraries\nimport numpy as np\nimport pandas as pd\nimport matplotlib.pyplot as plt"
   },
   "outputs": [],
   "source": [
    "# Importing libraries\n",
    "import numpy as np\n",
    "import pandas as pd\n",
    "import matplotlib.pyplot as plt"
   ]
  },
  {
   "cell_type": "code",
   "execution_count": 2,
   "id": "01a413eb-7472-41ea-ba28-ead8e04b2196",
   "metadata": {
    "executionCancelledAt": null,
    "executionTime": 154,
    "lastExecutedAt": 1687317550529,
    "lastScheduledRunId": null,
    "lastSuccessfullyExecutedCode": "# Read data into a dataframe\nurl = \"http://bit.ly/w-data\"\ndf = pd.read_csv(url)\ndf.head()"
   },
   "outputs": [
    {
     "data": {
      "application/com.datacamp.data-table.v1+json": {
       "table": {
        "data": [
         {
          "Hours": 2.5,
          "Scores": 21,
          "index": 0
         },
         {
          "Hours": 5.1,
          "Scores": 47,
          "index": 1
         },
         {
          "Hours": 3.2,
          "Scores": 27,
          "index": 2
         },
         {
          "Hours": 8.5,
          "Scores": 75,
          "index": 3
         },
         {
          "Hours": 3.5,
          "Scores": 30,
          "index": 4
         }
        ],
        "schema": {
         "fields": [
          {
           "name": "index",
           "type": "integer"
          },
          {
           "name": "Hours",
           "type": "number"
          },
          {
           "name": "Scores",
           "type": "integer"
          }
         ],
         "pandas_version": "1.4.0",
         "primaryKey": [
          "index"
         ]
        }
       },
       "total_rows": 5,
       "truncation_type": null
      },
      "text/html": [
       "<div>\n",
       "<style scoped>\n",
       "    .dataframe tbody tr th:only-of-type {\n",
       "        vertical-align: middle;\n",
       "    }\n",
       "\n",
       "    .dataframe tbody tr th {\n",
       "        vertical-align: top;\n",
       "    }\n",
       "\n",
       "    .dataframe thead th {\n",
       "        text-align: right;\n",
       "    }\n",
       "</style>\n",
       "<table border=\"1\" class=\"dataframe\">\n",
       "  <thead>\n",
       "    <tr style=\"text-align: right;\">\n",
       "      <th></th>\n",
       "      <th>Hours</th>\n",
       "      <th>Scores</th>\n",
       "    </tr>\n",
       "  </thead>\n",
       "  <tbody>\n",
       "    <tr>\n",
       "      <th>0</th>\n",
       "      <td>2.5</td>\n",
       "      <td>21</td>\n",
       "    </tr>\n",
       "    <tr>\n",
       "      <th>1</th>\n",
       "      <td>5.1</td>\n",
       "      <td>47</td>\n",
       "    </tr>\n",
       "    <tr>\n",
       "      <th>2</th>\n",
       "      <td>3.2</td>\n",
       "      <td>27</td>\n",
       "    </tr>\n",
       "    <tr>\n",
       "      <th>3</th>\n",
       "      <td>8.5</td>\n",
       "      <td>75</td>\n",
       "    </tr>\n",
       "    <tr>\n",
       "      <th>4</th>\n",
       "      <td>3.5</td>\n",
       "      <td>30</td>\n",
       "    </tr>\n",
       "  </tbody>\n",
       "</table>\n",
       "</div>"
      ],
      "text/plain": [
       "   Hours  Scores\n",
       "0    2.5      21\n",
       "1    5.1      47\n",
       "2    3.2      27\n",
       "3    8.5      75\n",
       "4    3.5      30"
      ]
     },
     "execution_count": 2,
     "metadata": {},
     "output_type": "execute_result"
    }
   ],
   "source": [
    "# Read data into a dataframe\n",
    "url = \"http://bit.ly/w-data\"\n",
    "df = pd.read_csv(url)\n",
    "df.head()"
   ]
  },
  {
   "cell_type": "code",
   "execution_count": 3,
   "id": "6d64b024-bbde-4e6d-94aa-913be83c1a09",
   "metadata": {
    "executionCancelledAt": null,
    "executionTime": 53,
    "lastExecutedAt": 1687317550583,
    "lastScheduledRunId": null,
    "lastSuccessfullyExecutedCode": "# Data inspection\n# Check dataframe columns and datatypes\ndf.info()"
   },
   "outputs": [
    {
     "name": "stdout",
     "output_type": "stream",
     "text": [
      "<class 'pandas.core.frame.DataFrame'>\n",
      "RangeIndex: 25 entries, 0 to 24\n",
      "Data columns (total 2 columns):\n",
      " #   Column  Non-Null Count  Dtype  \n",
      "---  ------  --------------  -----  \n",
      " 0   Hours   25 non-null     float64\n",
      " 1   Scores  25 non-null     int64  \n",
      "dtypes: float64(1), int64(1)\n",
      "memory usage: 528.0 bytes\n"
     ]
    }
   ],
   "source": [
    "# Data inspection\n",
    "# Check dataframe columns and datatypes\n",
    "df.info()"
   ]
  },
  {
   "cell_type": "markdown",
   "id": "56455e4d-8a24-4af6-958a-3671851d8775",
   "metadata": {},
   "source": [
    "We have observed that the data has two columns. The feature variable is **Hours** and the target variable is **Scores**. The data has **25 rows** abd consists of Hours with a **float datatype** and Score with an **integer datatype**."
   ]
  },
  {
   "cell_type": "markdown",
   "id": "13a3a1d4-4bcf-4111-ba3d-5dcc9548a53a",
   "metadata": {},
   "source": [
    "## DATA CLEANING"
   ]
  },
  {
   "cell_type": "code",
   "execution_count": 4,
   "id": "b7015070-c539-4662-a14e-58a4f4bf4aa5",
   "metadata": {
    "executionCancelledAt": null,
    "executionTime": 47,
    "lastExecutedAt": 1687317550630,
    "lastScheduledRunId": null,
    "lastSuccessfullyExecutedCode": "# Check for missing values\ndf.isna().sum()",
    "scrolled": true
   },
   "outputs": [
    {
     "data": {
      "text/plain": [
       "Hours     0\n",
       "Scores    0\n",
       "dtype: int64"
      ]
     },
     "execution_count": 4,
     "metadata": {},
     "output_type": "execute_result"
    }
   ],
   "source": [
    "# Check for missing values\n",
    "df.isna().sum()"
   ]
  },
  {
   "cell_type": "markdown",
   "id": "0524c519-a1e9-4d34-b8c1-37668587f799",
   "metadata": {},
   "source": [
    "No missing values"
   ]
  },
  {
   "cell_type": "code",
   "execution_count": 5,
   "id": "adfccac9-cac6-40db-bd0d-93294271bff4",
   "metadata": {
    "executionCancelledAt": null,
    "executionTime": 48,
    "lastExecutedAt": 1687317550678,
    "lastScheduledRunId": null,
    "lastSuccessfullyExecutedCode": "# Check that all data is numeric\ndf.apply(lambda x: pd.to_numeric(x, errors='coerce').notnull().all())"
   },
   "outputs": [
    {
     "data": {
      "text/plain": [
       "Hours     True\n",
       "Scores    True\n",
       "dtype: bool"
      ]
     },
     "execution_count": 5,
     "metadata": {},
     "output_type": "execute_result"
    }
   ],
   "source": [
    "# Check that all data is numeric\n",
    "df.apply(lambda x: pd.to_numeric(x, errors='coerce').notnull().all())"
   ]
  },
  {
   "cell_type": "markdown",
   "id": "c6d3890d-9843-4ae3-90de-8b481bbefa7d",
   "metadata": {},
   "source": [
    "Data is numeric"
   ]
  },
  {
   "cell_type": "code",
   "execution_count": 6,
   "id": "8acf3de7-e316-4401-872d-346327ee5d83",
   "metadata": {
    "executionCancelledAt": null,
    "executionTime": 48,
    "lastExecutedAt": 1687317550726,
    "lastScheduledRunId": null,
    "lastSuccessfullyExecutedCode": "# Check for outliers using iqr method\nQ1 = df.quantile(0.25)\nQ3 = df.quantile(0.75)\nIQR = Q3 - Q1\n((df < (Q1 - 1.5 * IQR)) | (df > (Q3 + 1.5 * IQR))).sum()"
   },
   "outputs": [
    {
     "data": {
      "text/plain": [
       "Hours     0\n",
       "Scores    0\n",
       "dtype: int64"
      ]
     },
     "execution_count": 6,
     "metadata": {},
     "output_type": "execute_result"
    }
   ],
   "source": [
    "# Check for outliers using iqr method\n",
    "Q1 = df.quantile(0.25)\n",
    "Q3 = df.quantile(0.75)\n",
    "IQR = Q3 - Q1\n",
    "((df < (Q1 - 1.5 * IQR)) | (df > (Q3 + 1.5 * IQR))).sum()"
   ]
  },
  {
   "cell_type": "markdown",
   "id": "5e8fd018-d0ea-44b4-88f1-0c21700d5947",
   "metadata": {},
   "source": [
    "No outliers detected"
   ]
  },
  {
   "cell_type": "markdown",
   "id": "754ff76f-8cc4-4f17-b6bd-5d75edea753b",
   "metadata": {},
   "source": [
    "## EXPLORATORY DATA ANALYSIS"
   ]
  },
  {
   "cell_type": "code",
   "execution_count": 7,
   "id": "e63679ce-9c68-4997-b9d3-46b1f8b2a3e4",
   "metadata": {
    "executionCancelledAt": null,
    "executionTime": 48,
    "lastExecutedAt": 1687317550774,
    "lastScheduledRunId": null,
    "lastSuccessfullyExecutedCode": "# Descriptive statistics\ndf.describe()"
   },
   "outputs": [
    {
     "data": {
      "application/com.datacamp.data-table.v1+json": {
       "table": {
        "data": [
         {
          "Hours": 25,
          "Scores": 25,
          "index": "count"
         },
         {
          "Hours": 5.012,
          "Scores": 51.48,
          "index": "mean"
         },
         {
          "Hours": 2.5250940577,
          "Scores": 25.2868872475,
          "index": "std"
         },
         {
          "Hours": 1.1,
          "Scores": 17,
          "index": "min"
         },
         {
          "Hours": 2.7,
          "Scores": 30,
          "index": "25%"
         },
         {
          "Hours": 4.8,
          "Scores": 47,
          "index": "50%"
         },
         {
          "Hours": 7.4,
          "Scores": 75,
          "index": "75%"
         },
         {
          "Hours": 9.2,
          "Scores": 95,
          "index": "max"
         }
        ],
        "schema": {
         "fields": [
          {
           "name": "index",
           "type": "string"
          },
          {
           "name": "Hours",
           "type": "number"
          },
          {
           "name": "Scores",
           "type": "number"
          }
         ],
         "pandas_version": "1.4.0",
         "primaryKey": [
          "index"
         ]
        }
       },
       "total_rows": 8,
       "truncation_type": null
      },
      "text/html": [
       "<div>\n",
       "<style scoped>\n",
       "    .dataframe tbody tr th:only-of-type {\n",
       "        vertical-align: middle;\n",
       "    }\n",
       "\n",
       "    .dataframe tbody tr th {\n",
       "        vertical-align: top;\n",
       "    }\n",
       "\n",
       "    .dataframe thead th {\n",
       "        text-align: right;\n",
       "    }\n",
       "</style>\n",
       "<table border=\"1\" class=\"dataframe\">\n",
       "  <thead>\n",
       "    <tr style=\"text-align: right;\">\n",
       "      <th></th>\n",
       "      <th>Hours</th>\n",
       "      <th>Scores</th>\n",
       "    </tr>\n",
       "  </thead>\n",
       "  <tbody>\n",
       "    <tr>\n",
       "      <th>count</th>\n",
       "      <td>25.000000</td>\n",
       "      <td>25.000000</td>\n",
       "    </tr>\n",
       "    <tr>\n",
       "      <th>mean</th>\n",
       "      <td>5.012000</td>\n",
       "      <td>51.480000</td>\n",
       "    </tr>\n",
       "    <tr>\n",
       "      <th>std</th>\n",
       "      <td>2.525094</td>\n",
       "      <td>25.286887</td>\n",
       "    </tr>\n",
       "    <tr>\n",
       "      <th>min</th>\n",
       "      <td>1.100000</td>\n",
       "      <td>17.000000</td>\n",
       "    </tr>\n",
       "    <tr>\n",
       "      <th>25%</th>\n",
       "      <td>2.700000</td>\n",
       "      <td>30.000000</td>\n",
       "    </tr>\n",
       "    <tr>\n",
       "      <th>50%</th>\n",
       "      <td>4.800000</td>\n",
       "      <td>47.000000</td>\n",
       "    </tr>\n",
       "    <tr>\n",
       "      <th>75%</th>\n",
       "      <td>7.400000</td>\n",
       "      <td>75.000000</td>\n",
       "    </tr>\n",
       "    <tr>\n",
       "      <th>max</th>\n",
       "      <td>9.200000</td>\n",
       "      <td>95.000000</td>\n",
       "    </tr>\n",
       "  </tbody>\n",
       "</table>\n",
       "</div>"
      ],
      "text/plain": [
       "           Hours     Scores\n",
       "count  25.000000  25.000000\n",
       "mean    5.012000  51.480000\n",
       "std     2.525094  25.286887\n",
       "min     1.100000  17.000000\n",
       "25%     2.700000  30.000000\n",
       "50%     4.800000  47.000000\n",
       "75%     7.400000  75.000000\n",
       "max     9.200000  95.000000"
      ]
     },
     "execution_count": 7,
     "metadata": {},
     "output_type": "execute_result"
    }
   ],
   "source": [
    "# Descriptive statistics\n",
    "df.describe()"
   ]
  },
  {
   "cell_type": "markdown",
   "id": "4d9b4b0a-0c86-4e98-b864-d2d6f42f0dcf",
   "metadata": {},
   "source": [
    "- We can see that most students study an average of 5.0 hours/day and score an average of 51.48%.\n",
    "- We can also see that the standard deviation of hours studied is 2.5 hours/day and the standard deviation of score is  25.3%\n",
    "- We can also observed that the minimum and maxiumum hours/day studied are 1.1 and 9.2 respectively.\n",
    "- We can also observed that the minimum and maxiumum scores are 17 and 95 respectively."
   ]
  },
  {
   "cell_type": "code",
   "execution_count": 8,
   "id": "e9728cfb-6594-4c0f-a932-c8943edd28c2",
   "metadata": {
    "executionCancelledAt": null,
    "executionTime": 314,
    "lastExecutedAt": 1687317551088,
    "lastScheduledRunId": null,
    "lastSuccessfullyExecutedCode": "# Plot a histogram for number of hours studied per day\nplt.hist(df['Hours'], bins =4)\nplt.title('Number of hours studied per day')\nplt.xlabel('Number of hours')\nplt.ylabel('Number of students');"
   },
   "outputs": [
    {
     "data": {
      "image/png": "[encoded data removed]",
      "text/plain": [
       "<Figure size 640x480 with 1 Axes>"
      ]
     },
     "metadata": {},
     "output_type": "display_data"
    }
   ],
   "source": [
    "# Plot a histogram for number of hours studied per day\n",
    "plt.hist(df['Hours'], bins =4)\n",
    "plt.title('Number of hours studied per day')\n",
    "plt.xlabel('Number of hours')\n",
    "plt.ylabel('Number of students');"
   ]
  },
  {
   "cell_type": "markdown",
   "id": "c7adb1ee-7117-47cf-9a0b-4bdf4a072ab9",
   "metadata": {},
   "source": [
    "The histogram above shows a slightly right-skewed distribution, as the tail of the distribution extends more to the right than to the left. This means that there are more students who study fewer hours per day and fewer students who study more hours per day. The majority of students study between 3 to 7 hours per day, with a peak at around 5 hours per day. This indicates that most students have a similar study pattern, with only a few students studying significantly more or less than the average."
   ]
  },
  {
   "cell_type": "code",
   "execution_count": 9,
   "id": "56790722-1743-4392-84e4-e4e65c58d99c",
   "metadata": {
    "executionCancelledAt": null,
    "executionTime": 201,
    "lastExecutedAt": 1687317551289,
    "lastScheduledRunId": null,
    "lastSuccessfullyExecutedCode": "# Plot a histogram for scores of students\nplt.hist(df['Scores'], bins=4)\nplt.title('Percentage of Scores obtained')\nplt.xlabel('Score(Percentage)')\nplt.ylabel('Number of students');"
   },
   "outputs": [
    {
     "data": {
      "image/png": "[encoded data removed]",
      "text/plain": [
       "<Figure size 640x480 with 1 Axes>"
      ]
     },
     "metadata": {},
     "output_type": "display_data"
    }
   ],
   "source": [
    "# Plot a histogram for scores of students\n",
    "plt.hist(df['Scores'], bins=4)\n",
    "plt.title('Percentage of Scores obtained')\n",
    "plt.xlabel('Score(Percentage)')\n",
    "plt.ylabel('Number of students');"
   ]
  },
  {
   "cell_type": "markdown",
   "id": "90f2ef82-7b74-4e3b-9f8a-1b107efba736",
   "metadata": {},
   "source": [
    "We can observe that most students scored between 30-40% and the histogram is slightly skewed to the right."
   ]
  },
  {
   "cell_type": "code",
   "execution_count": 10,
   "id": "b7324353-6fc2-462b-bbcf-2748550d30ba",
   "metadata": {
    "executionCancelledAt": null,
    "executionTime": 174,
    "lastExecutedAt": 1687317551464,
    "lastScheduledRunId": null,
    "lastSuccessfullyExecutedCode": "# plot a scatter plot of scores obtained against number of hours studied\nplt.scatter(df['Hours'], df['Scores'])\nplt.title('Scores obtained vs Number of hours studied')\nplt.xlabel('Number of hours studied')\nplt.ylabel('Scores obtained(%)');"
   },
   "outputs": [
    {
     "data": {
      "image/png": "[encoded data removed]",
      "text/plain": [
       "<Figure size 640x480 with 1 Axes>"
      ]
     },
     "metadata": {},
     "output_type": "display_data"
    }
   ],
   "source": [
    "# plot a scatter plot of scores obtained against number of hours studied\n",
    "plt.scatter(df['Hours'], df['Scores'])\n",
    "plt.title('Scores obtained vs Number of hours studied')\n",
    "plt.xlabel('Number of hours studied')\n",
    "plt.ylabel('Scores obtained(%)');"
   ]
  },
  {
   "cell_type": "code",
   "execution_count": 11,
   "id": "7ee15e3d-4076-4bca-a4b4-373e200e7873",
   "metadata": {
    "executionCancelledAt": null,
    "executionTime": 49,
    "lastExecutedAt": 1687317551514,
    "lastScheduledRunId": null,
    "lastSuccessfullyExecutedCode": "# Check correlation\ndf['Hours'].corr(df['Scores'])"
   },
   "outputs": [
    {
     "data": {
      "text/plain": [
       "0.9761906560220887"
      ]
     },
     "execution_count": 11,
     "metadata": {},
     "output_type": "execute_result"
    }
   ],
   "source": [
    "# Check correlation\n",
    "df['Hours'].corr(df['Scores'])"
   ]
  },
  {
   "cell_type": "markdown",
   "id": "1bb2eec7-d65d-45ff-8db7-1beb8c385038",
   "metadata": {},
   "source": [
    "We can observe a strong positive correlation between number of hours studied and the percentage score obtained. Therefore hours studied is a strong predictor of score."
   ]
  },
  {
   "cell_type": "code",
   "execution_count": 12,
   "id": "0a752c71-441b-4c23-9959-a093d52c44c6",
   "metadata": {
    "executionCancelledAt": null,
    "executionTime": 390,
    "lastExecutedAt": 1687317551904,
    "lastScheduledRunId": null,
    "lastSuccessfullyExecutedCode": "# Check if the relationship between both variables is linear or nonlinear\nfrom scipy.stats import linregress\nslope, intercept, r_value, p_value, std_err = linregress(df['Hours'], df['Scores'])\nif abs(r_value) == 1:\n    print(\"The relationship between both variables is perfectly linear.\")\nelif abs(r_value) >= 0.7:\n    print(\"The relationship between both variables is strongly linear.\")\nelif abs(r_value) >= 0.3:\n    print(\"The relationship between both variables is moderately linear.\")\nelse:\n    print(\"The relationship between both variables is weakly linear or nonlinear.\")"
   },
   "outputs": [
    {
     "name": "stdout",
     "output_type": "stream",
     "text": [
      "The relationship between both variables is strongly linear.\n"
     ]
    }
   ],
   "source": [
    "# Check if the relationship between both variables is linear or nonlinear\n",
    "from scipy.stats import linregress\n",
    "slope, intercept, r_value, p_value, std_err = linregress(df['Hours'], df['Scores'])\n",
    "if abs(r_value) == 1:\n",
    "    print(\"The relationship between both variables is perfectly linear.\")\n",
    "elif abs(r_value) >= 0.7:\n",
    "    print(\"The relationship between both variables is strongly linear.\")\n",
    "elif abs(r_value) >= 0.3:\n",
    "    print(\"The relationship between both variables is moderately linear.\")\n",
    "else:\n",
    "    print(\"The relationship between both variables is weakly linear or nonlinear.\")"
   ]
  },
  {
   "cell_type": "markdown",
   "id": "254363f5-cb74-48ff-840b-ce5fed8df9ce",
   "metadata": {},
   "source": [
    "Having established that the relationship between the variables is strongly linear we can utilize a **Linear Regression Model** to predict the scores of students from the number of hours studied. "
   ]
  },
  {
   "cell_type": "markdown",
   "id": "5f474b27-104c-4156-b646-5db75a79c9ad",
   "metadata": {},
   "source": [
    "## DATA PREPARATION"
   ]
  },
  {
   "cell_type": "code",
   "execution_count": 13,
   "id": "e6bc0ae9-58cd-4ec5-b7ac-0491ae7122eb",
   "metadata": {
    "executionCancelledAt": null,
    "executionTime": 49,
    "lastExecutedAt": 1687317551953,
    "lastScheduledRunId": null,
    "lastSuccessfullyExecutedCode": "# Divide the data into features and target variables.\nX = df.iloc[:, :-1].values\ny = df.iloc[:, 1].values  "
   },
   "outputs": [],
   "source": [
    "# Divide the data into features and target variables.\n",
    "X = df.iloc[:, :-1].values\n",
    "y = df.iloc[:, 1].values  "
   ]
  },
  {
   "cell_type": "code",
   "execution_count": 14,
   "id": "1ad82b74-00e1-4bf1-a5f9-e0d432b8aaba",
   "metadata": {
    "executionCancelledAt": null,
    "executionTime": 56,
    "lastExecutedAt": 1687317552010,
    "lastScheduledRunId": null,
    "lastSuccessfullyExecutedCode": "pd.DataFrame(X).head()"
   },
   "outputs": [
    {
     "data": {
      "application/com.datacamp.data-table.v1+json": {
       "table": {
        "data": [
         {
          "0": 2.5,
          "index": 0
         },
         {
          "0": 5.1,
          "index": 1
         },
         {
          "0": 3.2,
          "index": 2
         },
         {
          "0": 8.5,
          "index": 3
         },
         {
          "0": 3.5,
          "index": 4
         }
        ],
        "schema": {
         "fields": [
          {
           "name": "index",
           "type": "integer"
          },
          {
           "name": 0,
           "type": "number"
          }
         ],
         "pandas_version": "1.4.0",
         "primaryKey": [
          "index"
         ]
        }
       },
       "total_rows": 5,
       "truncation_type": null
      },
      "text/html": [
       "<div>\n",
       "<style scoped>\n",
       "    .dataframe tbody tr th:only-of-type {\n",
       "        vertical-align: middle;\n",
       "    }\n",
       "\n",
       "    .dataframe tbody tr th {\n",
       "        vertical-align: top;\n",
       "    }\n",
       "\n",
       "    .dataframe thead th {\n",
       "        text-align: right;\n",
       "    }\n",
       "</style>\n",
       "<table border=\"1\" class=\"dataframe\">\n",
       "  <thead>\n",
       "    <tr style=\"text-align: right;\">\n",
       "      <th></th>\n",
       "      <th>0</th>\n",
       "    </tr>\n",
       "  </thead>\n",
       "  <tbody>\n",
       "    <tr>\n",
       "      <th>0</th>\n",
       "      <td>2.5</td>\n",
       "    </tr>\n",
       "    <tr>\n",
       "      <th>1</th>\n",
       "      <td>5.1</td>\n",
       "    </tr>\n",
       "    <tr>\n",
       "      <th>2</th>\n",
       "      <td>3.2</td>\n",
       "    </tr>\n",
       "    <tr>\n",
       "      <th>3</th>\n",
       "      <td>8.5</td>\n",
       "    </tr>\n",
       "    <tr>\n",
       "      <th>4</th>\n",
       "      <td>3.5</td>\n",
       "    </tr>\n",
       "  </tbody>\n",
       "</table>\n",
       "</div>"
      ],
      "text/plain": [
       "     0\n",
       "0  2.5\n",
       "1  5.1\n",
       "2  3.2\n",
       "3  8.5\n",
       "4  3.5"
      ]
     },
     "execution_count": 14,
     "metadata": {},
     "output_type": "execute_result"
    }
   ],
   "source": [
    "pd.DataFrame(X).head()"
   ]
  },
  {
   "cell_type": "code",
   "execution_count": 15,
   "id": "555fba99-d04e-4483-b7c5-acee6c6ac1c6",
   "metadata": {
    "executionCancelledAt": null,
    "executionTime": 48,
    "lastExecutedAt": 1687317552058,
    "lastScheduledRunId": null,
    "lastSuccessfullyExecutedCode": "# Reshape the data since we are making prediction from one variable\nprint(type(X))\nprint(X.shape)\nX = X.reshape(-1,1)\nprint(type(X))\nprint(X.shape)"
   },
   "outputs": [
    {
     "name": "stdout",
     "output_type": "stream",
     "text": [
      "<class 'numpy.ndarray'>\n",
      "(25, 1)\n",
      "<class 'numpy.ndarray'>\n",
      "(25, 1)\n"
     ]
    }
   ],
   "source": [
    "# Reshape the data since we are making prediction from one variable\n",
    "print(type(X))\n",
    "print(X.shape)\n",
    "X = X.reshape(-1,1)\n",
    "print(type(X))\n",
    "print(X.shape)"
   ]
  },
  {
   "cell_type": "code",
   "execution_count": 16,
   "id": "121bb4bd-0053-4058-9217-cf6087b23e75",
   "metadata": {
    "executionCancelledAt": null,
    "executionTime": 51,
    "lastExecutedAt": 1687317552109,
    "lastScheduledRunId": null,
    "lastSuccessfullyExecutedCode": "# Split the data into train and test sets\nfrom sklearn.model_selection import train_test_split  \nX_train, X_test, y_train, y_test = train_test_split(X, y, test_size=0.2, random_state=2023) "
   },
   "outputs": [],
   "source": [
    "# Split the data into train and test sets\n",
    "from sklearn.model_selection import train_test_split  \n",
    "X_train, X_test, y_train, y_test = train_test_split(X, y, test_size=0.2, random_state=2023) "
   ]
  },
  {
   "cell_type": "code",
   "execution_count": 17,
   "id": "b1c23a5f-a18b-4646-b918-d5aeeb24c561",
   "metadata": {
    "executionCancelledAt": null,
    "executionTime": 56,
    "lastExecutedAt": 1687317552166,
    "lastScheduledRunId": null,
    "lastSuccessfullyExecutedCode": "# Visual data inspection\ndata = [X_train, y_train, X_test, y_test]\nfor x in data:\n    print(pd.DataFrame(x).head(), \"\\n\")"
   },
   "outputs": [
    {
     "name": "stdout",
     "output_type": "stream",
     "text": [
      "     0\n",
      "0  5.9\n",
      "1  6.1\n",
      "2  7.8\n",
      "3  3.8\n",
      "4  4.8 \n",
      "\n",
      "    0\n",
      "0  62\n",
      "1  67\n",
      "2  86\n",
      "3  35\n",
      "4  54 \n",
      "\n",
      "     0\n",
      "0  2.7\n",
      "1  4.5\n",
      "2  3.5\n",
      "3  7.7\n",
      "4  1.1 \n",
      "\n",
      "    0\n",
      "0  25\n",
      "1  41\n",
      "2  30\n",
      "3  85\n",
      "4  17 \n",
      "\n"
     ]
    }
   ],
   "source": [
    "# Visual data inspection\n",
    "data = [X_train, y_train, X_test, y_test]\n",
    "for x in data:\n",
    "    print(pd.DataFrame(x).head(), \"\\n\")"
   ]
  },
  {
   "cell_type": "markdown",
   "id": "206b5e9c-993a-41b1-8153-7e5a28ac2548",
   "metadata": {},
   "source": [
    "## MODEL TRAINING"
   ]
  },
  {
   "cell_type": "code",
   "execution_count": 18,
   "id": "2d97e9f4-5187-43be-b79b-c3a5c54437b1",
   "metadata": {
    "executionCancelledAt": null,
    "executionTime": 48,
    "lastExecutedAt": 1687317552214,
    "lastScheduledRunId": null,
    "lastSuccessfullyExecutedCode": "# Train the Linear Regression Model\nfrom sklearn.linear_model import LinearRegression  \nreg = LinearRegression()  \nreg.fit(X_train, y_train) "
   },
   "outputs": [
    {
     "data": {
      "text/html": [
       "<style>#sk-container-id-1 {color: black;background-color: white;}#sk-container-id-1 pre{padding: 0;}#sk-container-id-1 div.sk-toggleable {background-color: white;}#sk-container-id-1 label.sk-toggleable__label {cursor: pointer;display: block;width: 100%;margin-bottom: 0;padding: 0.3em;box-sizing: border-box;text-align: center;}#sk-container-id-1 label.sk-toggleable__label-arrow:before {content: \"▸\";float: left;margin-right: 0.25em;color: #696969;}#sk-container-id-1 label.sk-toggleable__label-arrow:hover:before {color: black;}#sk-container-id-1 div.sk-estimator:hover label.sk-toggleable__label-arrow:before {color: black;}#sk-container-id-1 div.sk-toggleable__content {max-height: 0;max-width: 0;overflow: hidden;text-align: left;background-color: #f0f8ff;}#sk-container-id-1 div.sk-toggleable__content pre {margin: 0.2em;color: black;border-radius: 0.25em;background-color: #f0f8ff;}#sk-container-id-1 input.sk-toggleable__control:checked~div.sk-toggleable__content {max-height: 200px;max-width: 100%;overflow: auto;}#sk-container-id-1 input.sk-toggleable__control:checked~label.sk-toggleable__label-arrow:before {content: \"▾\";}#sk-container-id-1 div.sk-estimator input.sk-toggleable__control:checked~label.sk-toggleable__label {background-color: #d4ebff;}#sk-container-id-1 div.sk-label input.sk-toggleable__control:checked~label.sk-toggleable__label {background-color: #d4ebff;}#sk-container-id-1 input.sk-hidden--visually {border: 0;clip: rect(1px 1px 1px 1px);clip: rect(1px, 1px, 1px, 1px);height: 1px;margin: -1px;overflow: hidden;padding: 0;position: absolute;width: 1px;}#sk-container-id-1 div.sk-estimator {font-family: monospace;background-color: #f0f8ff;border: 1px dotted black;border-radius: 0.25em;box-sizing: border-box;margin-bottom: 0.5em;}#sk-container-id-1 div.sk-estimator:hover {background-color: #d4ebff;}#sk-container-id-1 div.sk-parallel-item::after {content: \"\";width: 100%;border-bottom: 1px solid gray;flex-grow: 1;}#sk-container-id-1 div.sk-label:hover label.sk-toggleable__label {background-color: #d4ebff;}#sk-container-id-1 div.sk-serial::before {content: \"\";position: absolute;border-left: 1px solid gray;box-sizing: border-box;top: 0;bottom: 0;left: 50%;z-index: 0;}#sk-container-id-1 div.sk-serial {display: flex;flex-direction: column;align-items: center;background-color: white;padding-right: 0.2em;padding-left: 0.2em;position: relative;}#sk-container-id-1 div.sk-item {position: relative;z-index: 1;}#sk-container-id-1 div.sk-parallel {display: flex;align-items: stretch;justify-content: center;background-color: white;position: relative;}#sk-container-id-1 div.sk-item::before, #sk-container-id-1 div.sk-parallel-item::before {content: \"\";position: absolute;border-left: 1px solid gray;box-sizing: border-box;top: 0;bottom: 0;left: 50%;z-index: -1;}#sk-container-id-1 div.sk-parallel-item {display: flex;flex-direction: column;z-index: 1;position: relative;background-color: white;}#sk-container-id-1 div.sk-parallel-item:first-child::after {align-self: flex-end;width: 50%;}#sk-container-id-1 div.sk-parallel-item:last-child::after {align-self: flex-start;width: 50%;}#sk-container-id-1 div.sk-parallel-item:only-child::after {width: 0;}#sk-container-id-1 div.sk-dashed-wrapped {border: 1px dashed gray;margin: 0 0.4em 0.5em 0.4em;box-sizing: border-box;padding-bottom: 0.4em;background-color: white;}#sk-container-id-1 div.sk-label label {font-family: monospace;font-weight: bold;display: inline-block;line-height: 1.2em;}#sk-container-id-1 div.sk-label-container {text-align: center;}#sk-container-id-1 div.sk-container {/* jupyter's `normalize.less` sets `[hidden] { display: none; }` but bootstrap.min.css set `[hidden] { display: none !important; }` so we also need the `!important` here to be able to override the default hidden behavior on the sphinx rendered scikit-learn.org. See: https://github.com/scikit-learn/scikit-learn/issues/21755 */display: inline-block !important;position: relative;}#sk-container-id-1 div.sk-text-repr-fallback {display: none;}</style><div id=\"sk-container-id-1\" class=\"sk-top-container\"><div class=\"sk-text-repr-fallback\"><pre>LinearRegression()</pre><b>In a Jupyter environment, please rerun this cell to show the HTML representation or trust the notebook. <br />On GitHub, the HTML representation is unable to render, please try loading this page with nbviewer.org.</b></div><div class=\"sk-container\" hidden><div class=\"sk-item\"><div class=\"sk-estimator sk-toggleable\"><input class=\"sk-toggleable__control sk-hidden--visually\" id=\"sk-estimator-id-1\" type=\"checkbox\" checked><label for=\"sk-estimator-id-1\" class=\"sk-toggleable__label sk-toggleable__label-arrow\">LinearRegression</label><div class=\"sk-toggleable__content\"><pre>LinearRegression()</pre></div></div></div></div></div>"
      ],
      "text/plain": [
       "LinearRegression()"
      ]
     },
     "execution_count": 18,
     "metadata": {},
     "output_type": "execute_result"
    }
   ],
   "source": [
    "# Train the Linear Regression Model\n",
    "from sklearn.linear_model import LinearRegression  \n",
    "reg = LinearRegression()  \n",
    "reg.fit(X_train, y_train) "
   ]
  },
  {
   "cell_type": "code",
   "execution_count": 19,
   "id": "5d800882-6dad-4fd8-b863-144dbb741ebc",
   "metadata": {
    "executionCancelledAt": null,
    "executionTime": 48,
    "lastExecutedAt": 1687317552262,
    "lastScheduledRunId": null,
    "lastSuccessfullyExecutedCode": "# Extract the regression coefficients\ncoefficients = reg.coef_\nintercept = reg.intercept_\n\n# Write the regression equation\nprint(f\"Regression Equation: y = {intercept:.5f} + {coefficients[0]:.5f}x\")"
   },
   "outputs": [
    {
     "name": "stdout",
     "output_type": "stream",
     "text": [
      "Regression Equation: y = 3.96170 + 9.54410x\n"
     ]
    }
   ],
   "source": [
    "# Extract the regression coefficients\n",
    "coefficients = reg.coef_\n",
    "intercept = reg.intercept_\n",
    "\n",
    "# Write the regression equation\n",
    "print(f\"Regression Equation: y = {intercept:.5f} + {coefficients[0]:.5f}x\")"
   ]
  },
  {
   "cell_type": "code",
   "execution_count": 20,
   "id": "ea803c57-96c6-4255-8470-cc8f534b0c2b",
   "metadata": {
    "executionCancelledAt": null,
    "executionTime": 165,
    "lastExecutedAt": 1687317552427,
    "lastScheduledRunId": null,
    "lastSuccessfullyExecutedCode": "# Plot the regression line on the test data\n\n# Plot the test data\nplt.scatter(X_test, y_test, color='blue')\n\n# Plot the regression line\nplt.plot(X_test, reg.predict(X_test), color='red')\n\n# Add labels and title\nplt.title('Regression Line')\nplt.xlabel('Hours')\nplt.ylabel('Scores')\nplt.show()"
   },
   "outputs": [
    {
     "data": {
      "image/png": "[encoded data removed]",
      "text/plain": [
       "<Figure size 640x480 with 1 Axes>"
      ]
     },
     "metadata": {},
     "output_type": "display_data"
    }
   ],
   "source": [
    "# Plot the regression line on the test data\n",
    "\n",
    "# Plot the test data\n",
    "plt.scatter(X_test, y_test, color='blue')\n",
    "\n",
    "# Plot the regression line\n",
    "plt.plot(X_test, reg.predict(X_test), color='red')\n",
    "\n",
    "# Add labels and title\n",
    "plt.title('Regression Line')\n",
    "plt.xlabel('Hours')\n",
    "plt.ylabel('Scores')\n",
    "plt.show()"
   ]
  },
  {
   "cell_type": "markdown",
   "id": "0c5ac546-2ff9-4e1d-9813-ed504a8050c1",
   "metadata": {},
   "source": [
    "## MODEL PREDICTIONS"
   ]
  },
  {
   "cell_type": "code",
   "execution_count": 21,
   "id": "2ceaa14b-6ee7-4b3c-8075-7546926dbb45",
   "metadata": {
    "executionCancelledAt": null,
    "executionTime": 46,
    "lastExecutedAt": 1687317552473,
    "lastScheduledRunId": null,
    "lastSuccessfullyExecutedCode": "# Predict test data\ny_pred = reg.predict(X_test)"
   },
   "outputs": [],
   "source": [
    "# Predict test data\n",
    "y_pred = reg.predict(X_test)"
   ]
  },
  {
   "cell_type": "code",
   "execution_count": 22,
   "id": "0efb51fb-152f-422e-8fee-3a866b40cfdf",
   "metadata": {
    "executionCancelledAt": null,
    "executionTime": 48,
    "lastExecutedAt": 1687317552522,
    "lastScheduledRunId": null,
    "lastSuccessfullyExecutedCode": "# Make a custom prediction\n# What is the predicted score if a student studies for 9.25 hours/day\nhrs = [[9.25]]\ncustom_pred = reg.predict(hrs)\nprint(f\"Number of hours studied, {hrs[0][0]} hours results in a score prediction of {custom_pred[0]:.0f}%\")"
   },
   "outputs": [
    {
     "name": "stdout",
     "output_type": "stream",
     "text": [
      "Number of hours studied, 9.25 hours results in a score prediction of 92%\n"
     ]
    }
   ],
   "source": [
    "# Make a custom prediction\n",
    "# What is the predicted score if a student studies for 9.25 hours/day\n",
    "hrs = [[9.25]]\n",
    "custom_pred = reg.predict(hrs)\n",
    "print(f\"Number of hours studied, {hrs[0][0]} hours results in a score prediction of {custom_pred[0]:.0f}%\")"
   ]
  },
  {
   "cell_type": "markdown",
   "id": "d03c98dc-a2ef-4b5c-b906-bcbe2cf5f037",
   "metadata": {},
   "source": [
    "## MODEL EVALUATION"
   ]
  },
  {
   "cell_type": "code",
   "execution_count": 23,
   "id": "deba922f-4b61-4643-9887-4d212e2a3f0c",
   "metadata": {
    "executionCancelledAt": null,
    "executionTime": 48,
    "lastExecutedAt": 1687317552570,
    "lastScheduledRunId": null,
    "lastSuccessfullyExecutedCode": "from sklearn.metrics import mean_squared_error\n\n# Calculate mean squared error\nmse = mean_squared_error(y_test, y_pred)\n\nmse"
   },
   "outputs": [
    {
     "data": {
      "text/plain": [
       "35.00051391681818"
      ]
     },
     "execution_count": 23,
     "metadata": {},
     "output_type": "execute_result"
    }
   ],
   "source": [
    "from sklearn.metrics import mean_squared_error\n",
    "\n",
    "# Calculate mean squared error\n",
    "mse = mean_squared_error(y_test, y_pred)\n",
    "\n",
    "mse"
   ]
  },
  {
   "cell_type": "code",
   "execution_count": 24,
   "id": "4671f062-6aff-4054-a171-d369d2cb18e0",
   "metadata": {
    "executionCancelledAt": null,
    "executionTime": 48,
    "lastExecutedAt": 1687317552618,
    "lastScheduledRunId": null,
    "lastSuccessfullyExecutedCode": "# Cross validation score\nfrom sklearn.model_selection import cross_val_score, KFold\nkf = KFold(n_splits=5, shuffle=True, random_state=42)\nreg = LinearRegression()\ncv_results = cross_val_score(reg, X, y, cv=kf)\nprint(cv_results,)\nprint(np.mean(cv_results), np.std(cv_results))"
   },
   "outputs": [
    {
     "name": "stdout",
     "output_type": "stream",
     "text": [
      "[0.96780555 0.74949743 0.90881545 0.94043752 0.95414507]\n",
      "0.9041402050111291 0.07975901787429952\n"
     ]
    }
   ],
   "source": [
    "# Cross validation score\n",
    "from sklearn.model_selection import cross_val_score, KFold\n",
    "kf = KFold(n_splits=5, shuffle=True, random_state=42)\n",
    "reg = LinearRegression()\n",
    "cv_results = cross_val_score(reg, X, y, cv=kf)\n",
    "print(cv_results,)\n",
    "print(np.mean(cv_results), np.std(cv_results))"
   ]
  },
  {
   "cell_type": "markdown",
   "id": "551e7bf6-2467-4437-a6b9-838b0f43cb00",
   "metadata": {},
   "source": [
    "Based on the mean squared error of 35 and the mean cross validation score of 0.90, it can be inferred that the model has performed well on the test data and can generalize well to unseen data. The mean squared error of 35 indicates that the model's predictions are on average 5.92 points away from the actual scores. The mean cross validation score of 0.90 indicates that the model has an average accuracy of 90% on unseen data. \n",
    "\n",
    "Therefore, it can be concluded that the model is a good fit for the given data and can be used for making predictions on new data."
   ]
  },
  {
   "cell_type": "markdown",
   "id": "79b0f888-5acc-4028-8420-7d15e6009b80",
   "metadata": {},
   "source": [
    "## MODEL ALTERNATIVES EVALUATION"
   ]
  },
  {
   "cell_type": "markdown",
   "id": "4f292c05-e011-40a4-a0a4-5de1d03b61ad",
   "metadata": {},
   "source": [
    "It is possible that using Lasso or Ridge regression or ensemble methods could increase the performance of the model above. Lasso and Ridge regression are regularization techniques that can help prevent overfitting and improve the model's ability to generalize to new data. \n",
    "\n",
    "Ensemble methods, such as Random Forest or Gradient Boosting, can combine multiple models to improve the overall performance.  Therefore, it is recommended to try out different methods and compare their performance to determine the best approach for the given data."
   ]
  },
  {
   "cell_type": "code",
   "execution_count": 31,
   "id": "e04cf219-ab48-4804-9510-89bf30b10685",
   "metadata": {
    "executionCancelledAt": null,
    "executionTime": 5271,
    "lastExecutedAt": 1687319560902,
    "lastScheduledRunId": null,
    "lastSuccessfullyExecutedCode": "from sklearn.model_selection import GridSearchCV\nfrom sklearn.linear_model import Lasso, Ridge\nfrom sklearn.ensemble import RandomForestRegressor, GradientBoostingRegressor\nfrom sklearn.model_selection import cross_val_score\nfrom sklearn.metrics import mean_squared_error\n\n# Lasso Regression\nlasso = Lasso()\nlasso_params = {'alpha': [0.001, 0.01, 0.1, 1, 10]}\nlasso_grid = GridSearchCV(lasso, lasso_params, cv=5)\nlasso_grid.fit(X_train, y_train)\nlasso_pred = lasso_grid.predict(X_test)\nlasso_scores = cross_val_score(lasso, X_train, y_train, cv=5)\nlasso_mse = mean_squared_error(y_test, lasso_pred)\nprint(\"Lasso Regression Best Parameters:\", lasso_grid.best_params_)\nprint(\"Lasso Regression Mean Squared Error:\", lasso_mse)\nprint(\"Lasso Regression Mean Cross Validation Score:\", lasso_scores.mean())\nprint(\"\\n\")\n\n# Ridge Regression\nridge = Ridge()\nridge_params = {'alpha': [0.001, 0.01, 0.1, 1, 10]}\nridge_grid = GridSearchCV(ridge, ridge_params, cv=5)\nridge_grid.fit(X_train, y_train)\nridge_pred = ridge_grid.predict(X_test)\nridge_scores = cross_val_score(ridge, X_train, y_train, cv=5)\nridge_mse = mean_squared_error(y_test, ridge_pred)\nprint(\"Ridge Regression Best Parameters:\", ridge_grid.best_params_)\nprint(\"Ridge Regression Mean Squared Error:\", ridge_mse)\nprint(\"Ridge Regression Mean Cross Validation Score:\", ridge_scores.mean())\nprint(\"\\n\")\n\n# Random Forest Regression\nrf = RandomForestRegressor()\nrf_params = {'n_estimators': [50, 100, 150], 'max_depth': [3, 5, 7]}\nrf_grid = GridSearchCV(rf, rf_params, cv=5)\nrf_grid.fit(X_train, y_train)\nrf_pred = rf_grid.predict(X_test)\nrf_scores = cross_val_score(rf, X_train, y_train, cv=5)\nrf_mse = mean_squared_error(y_test, rf_pred)\nprint(\"Random Forest Regression Best Parameters:\", rf_grid.best_params_)\nprint(\"Random Forest Regression Mean Squared Error:\", rf_mse)\nprint(\"Random Forest Regression Mean Cross Validation Score:\", rf_scores.mean())\nprint(\"\\n\")\n\n# Gradient Boosting Regression\ngb = GradientBoostingRegressor()\ngb_params = {'n_estimators': [50, 100, 150], 'max_depth': [3, 5, 7]}\ngb_grid = GridSearchCV(gb, gb_params, cv=5)\ngb_grid.fit(X_train, y_train)\ngb_pred = gb_grid.predict(X_test)\ngb_scores = cross_val_score(gb, X_train, y_train, cv=5)\ngb_mse = mean_squared_error(y_test, gb_pred)\nprint(\"Gradient Boosting Regression Best Parameters:\", gb_grid.best_params_)\nprint(\"Gradient Boosting Regression Mean Squared Error:\", gb_mse)\nprint(\"Gradient Boosting Regression Mean Cross Validation Score:\", gb_scores.mean())"
   },
   "outputs": [
    {
     "name": "stdout",
     "output_type": "stream",
     "text": [
      "Lasso Regression Best Parameters: {'alpha': 0.001}\n",
      "Lasso Regression Mean Squared Error: 18.944138913812793\n",
      "Lasso Regression Mean Cross Validation Score: 0.7908427389559995\n",
      "\n",
      "\n",
      "Ridge Regression Best Parameters: {'alpha': 0.001}\n",
      "Ridge Regression Mean Squared Error: 18.943660540180556\n",
      "Ridge Regression Mean Cross Validation Score: 0.792934274368088\n",
      "\n",
      "\n",
      "Random Forest Regression Best Parameters: {'max_depth': 7, 'n_estimators': 50}\n",
      "Random Forest Regression Mean Squared Error: 10.736321111111117\n",
      "Random Forest Regression Mean Cross Validation Score: 0.5452143685929464\n",
      "\n",
      "\n",
      "Gradient Boosting Regression Best Parameters: {'max_depth': 3, 'n_estimators': 50}\n",
      "Gradient Boosting Regression Mean Squared Error: 30.662110310161125\n",
      "Gradient Boosting Regression Mean Cross Validation Score: 0.4335534092547347\n"
     ]
    }
   ],
   "source": [
    "from sklearn.model_selection import GridSearchCV\n",
    "from sklearn.linear_model import Lasso, Ridge\n",
    "from sklearn.ensemble import RandomForestRegressor, GradientBoostingRegressor\n",
    "from sklearn.model_selection import cross_val_score\n",
    "from sklearn.metrics import mean_squared_error\n",
    "\n",
    "# Lasso Regression\n",
    "lasso = Lasso()\n",
    "lasso_params = {'alpha': [0.001, 0.01, 0.1, 1, 10]}\n",
    "lasso_grid = GridSearchCV(lasso, lasso_params, cv=5)\n",
    "lasso_grid.fit(X_train, y_train)\n",
    "lasso_pred = lasso_grid.predict(X_test)\n",
    "lasso_scores = cross_val_score(lasso, X_train, y_train, cv=5)\n",
    "lasso_mse = mean_squared_error(y_test, lasso_pred)\n",
    "print(\"Lasso Regression Best Parameters:\", lasso_grid.best_params_)\n",
    "print(\"Lasso Regression Mean Squared Error:\", lasso_mse)\n",
    "print(\"Lasso Regression Mean Cross Validation Score:\", lasso_scores.mean())\n",
    "print(\"\\n\")\n",
    "\n",
    "# Ridge Regression\n",
    "ridge = Ridge()\n",
    "ridge_params = {'alpha': [0.001, 0.01, 0.1, 1, 10]}\n",
    "ridge_grid = GridSearchCV(ridge, ridge_params, cv=5)\n",
    "ridge_grid.fit(X_train, y_train)\n",
    "ridge_pred = ridge_grid.predict(X_test)\n",
    "ridge_scores = cross_val_score(ridge, X_train, y_train, cv=5)\n",
    "ridge_mse = mean_squared_error(y_test, ridge_pred)\n",
    "print(\"Ridge Regression Best Parameters:\", ridge_grid.best_params_)\n",
    "print(\"Ridge Regression Mean Squared Error:\", ridge_mse)\n",
    "print(\"Ridge Regression Mean Cross Validation Score:\", ridge_scores.mean())\n",
    "print(\"\\n\")\n",
    "\n",
    "# Random Forest Regression\n",
    "rf = RandomForestRegressor()\n",
    "rf_params = {'n_estimators': [50, 100, 150], 'max_depth': [3, 5, 7]}\n",
    "rf_grid = GridSearchCV(rf, rf_params, cv=5)\n",
    "rf_grid.fit(X_train, y_train)\n",
    "rf_pred = rf_grid.predict(X_test)\n",
    "rf_scores = cross_val_score(rf, X_train, y_train, cv=5)\n",
    "rf_mse = mean_squared_error(y_test, rf_pred)\n",
    "print(\"Random Forest Regression Best Parameters:\", rf_grid.best_params_)\n",
    "print(\"Random Forest Regression Mean Squared Error:\", rf_mse)\n",
    "print(\"Random Forest Regression Mean Cross Validation Score:\", rf_scores.mean())\n",
    "print(\"\\n\")\n",
    "\n",
    "# Gradient Boosting Regression\n",
    "gb = GradientBoostingRegressor()\n",
    "gb_params = {'n_estimators': [50, 100, 150], 'max_depth': [3, 5, 7]}\n",
    "gb_grid = GridSearchCV(gb, gb_params, cv=5)\n",
    "gb_grid.fit(X_train, y_train)\n",
    "gb_pred = gb_grid.predict(X_test)\n",
    "gb_scores = cross_val_score(gb, X_train, y_train, cv=5)\n",
    "gb_mse = mean_squared_error(y_test, gb_pred)\n",
    "print(\"Gradient Boosting Regression Best Parameters:\", gb_grid.best_params_)\n",
    "print(\"Gradient Boosting Regression Mean Squared Error:\", gb_mse)\n",
    "print(\"Gradient Boosting Regression Mean Cross Validation Score:\", gb_scores.mean())"
   ]
  },
  {
   "cell_type": "markdown",
   "id": "6e6fc748-ec98-4256-ac22-8b48c911d982",
   "metadata": {},
   "source": [
    "We can conclude that the **Linear Regression Model is still the best performing model overall** due to its high cross validation score and while other models have been shown to improve the mean squared error they do so at huge expense to the cross validation score."
   ]
  }
 ],
 "metadata": {
  "colab": {
   "name": "Welcome to DataCamp Workspaces.ipynb",
   "provenance": []
  },
  "kernelspec": {
   "display_name": "Python 3 (ipykernel)",
   "language": "python",
   "name": "python3"
  },
  "language_info": {
   "codemirror_mode": {
    "name": "ipython",
    "version": 3
   },
   "file_extension": ".py",
   "mimetype": "text/x-python",
   "name": "python",
   "nbconvert_exporter": "python",
   "pygments_lexer": "ipython3",
   "version": "3.10.9"
  }
 },
 "nbformat": 4,
 "nbformat_minor": 5
}
